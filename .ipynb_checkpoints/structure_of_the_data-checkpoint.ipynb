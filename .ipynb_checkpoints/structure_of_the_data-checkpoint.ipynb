{
 "cells": [
  {
   "cell_type": "markdown",
   "metadata": {},
   "source": [
    "<h2> Load the data </h2>\n",
    "<p> Data location and info:\n",
    "https://www.kaggle.com/c/text-normalization-challenge-english-language/data\n",
    "</p>"
   ]
  },
  {
   "cell_type": "code",
   "execution_count": 1,
   "metadata": {
    "collapsed": true
   },
   "outputs": [],
   "source": [
    "import pandas as pd\n",
    "import zipfile\n",
    "\n",
    "def Data(path):\n",
    "    #Unzip and read CSV file located in the data folder\n",
    "    file_name = path.split('/')[1].replace('.zip','')\n",
    "    zf = zipfile.ZipFile(path) \n",
    "    df = pd.read_csv(zf.open(file_name))\n",
    "    return df\n",
    "\n",
    "train_data = Data('data/en_train.csv.zip')\n",
    "test_data = Data('data/en_test.csv.zip')"
   ]
  },
  {
   "cell_type": "markdown",
   "metadata": {},
   "source": [
    "<h2> File structure and content </h2>"
   ]
  },
  {
   "cell_type": "code",
   "execution_count": 2,
   "metadata": {},
   "outputs": [
    {
     "name": "stdout",
     "output_type": "stream",
     "text": [
      "('train_data size', (9918441, 5))\n"
     ]
    },
    {
     "data": {
      "text/html": [
       "<div>\n",
       "<style>\n",
       "    .dataframe thead tr:only-child th {\n",
       "        text-align: right;\n",
       "    }\n",
       "\n",
       "    .dataframe thead th {\n",
       "        text-align: left;\n",
       "    }\n",
       "\n",
       "    .dataframe tbody tr th {\n",
       "        vertical-align: top;\n",
       "    }\n",
       "</style>\n",
       "<table border=\"1\" class=\"dataframe\">\n",
       "  <thead>\n",
       "    <tr style=\"text-align: right;\">\n",
       "      <th></th>\n",
       "      <th>sentence_id</th>\n",
       "      <th>token_id</th>\n",
       "    </tr>\n",
       "  </thead>\n",
       "  <tbody>\n",
       "    <tr>\n",
       "      <th>count</th>\n",
       "      <td>9918441.00</td>\n",
       "      <td>9918441.00</td>\n",
       "    </tr>\n",
       "    <tr>\n",
       "      <th>mean</th>\n",
       "      <td>377856.49</td>\n",
       "      <td>7.52</td>\n",
       "    </tr>\n",
       "    <tr>\n",
       "      <th>std</th>\n",
       "      <td>215137.11</td>\n",
       "      <td>6.12</td>\n",
       "    </tr>\n",
       "    <tr>\n",
       "      <th>min</th>\n",
       "      <td>0.00</td>\n",
       "      <td>0.00</td>\n",
       "    </tr>\n",
       "    <tr>\n",
       "      <th>25%</th>\n",
       "      <td>192526.00</td>\n",
       "      <td>3.00</td>\n",
       "    </tr>\n",
       "    <tr>\n",
       "      <th>50%</th>\n",
       "      <td>379259.00</td>\n",
       "      <td>6.00</td>\n",
       "    </tr>\n",
       "    <tr>\n",
       "      <th>75%</th>\n",
       "      <td>564189.00</td>\n",
       "      <td>11.00</td>\n",
       "    </tr>\n",
       "    <tr>\n",
       "      <th>max</th>\n",
       "      <td>748065.00</td>\n",
       "      <td>255.00</td>\n",
       "    </tr>\n",
       "  </tbody>\n",
       "</table>\n",
       "</div>"
      ],
      "text/plain": [
       "       sentence_id   token_id\n",
       "count   9918441.00 9918441.00\n",
       "mean     377856.49       7.52\n",
       "std      215137.11       6.12\n",
       "min           0.00       0.00\n",
       "25%      192526.00       3.00\n",
       "50%      379259.00       6.00\n",
       "75%      564189.00      11.00\n",
       "max      748065.00     255.00"
      ]
     },
     "execution_count": 2,
     "metadata": {},
     "output_type": "execute_result"
    }
   ],
   "source": [
    "print ('train_data size',train_data.shape)\n",
    "pd.options.display.float_format = '{:.2f}'.format\n",
    "train_data.describe()"
   ]
  },
  {
   "cell_type": "code",
   "execution_count": 3,
   "metadata": {},
   "outputs": [
    {
     "name": "stdout",
     "output_type": "stream",
     "text": [
      "('test_data size', (1088564, 3))\n"
     ]
    },
    {
     "data": {
      "text/html": [
       "<div>\n",
       "<style>\n",
       "    .dataframe thead tr:only-child th {\n",
       "        text-align: right;\n",
       "    }\n",
       "\n",
       "    .dataframe thead th {\n",
       "        text-align: left;\n",
       "    }\n",
       "\n",
       "    .dataframe tbody tr th {\n",
       "        vertical-align: top;\n",
       "    }\n",
       "</style>\n",
       "<table border=\"1\" class=\"dataframe\">\n",
       "  <thead>\n",
       "    <tr style=\"text-align: right;\">\n",
       "      <th></th>\n",
       "      <th>sentence_id</th>\n",
       "      <th>token_id</th>\n",
       "    </tr>\n",
       "  </thead>\n",
       "  <tbody>\n",
       "    <tr>\n",
       "      <th>count</th>\n",
       "      <td>1088564.00</td>\n",
       "      <td>1088564.00</td>\n",
       "    </tr>\n",
       "    <tr>\n",
       "      <th>mean</th>\n",
       "      <td>35006.87</td>\n",
       "      <td>8.34</td>\n",
       "    </tr>\n",
       "    <tr>\n",
       "      <th>std</th>\n",
       "      <td>20214.62</td>\n",
       "      <td>6.54</td>\n",
       "    </tr>\n",
       "    <tr>\n",
       "      <th>min</th>\n",
       "      <td>0.00</td>\n",
       "      <td>0.00</td>\n",
       "    </tr>\n",
       "    <tr>\n",
       "      <th>25%</th>\n",
       "      <td>17488.00</td>\n",
       "      <td>3.00</td>\n",
       "    </tr>\n",
       "    <tr>\n",
       "      <th>50%</th>\n",
       "      <td>35028.00</td>\n",
       "      <td>7.00</td>\n",
       "    </tr>\n",
       "    <tr>\n",
       "      <th>75%</th>\n",
       "      <td>52522.00</td>\n",
       "      <td>12.00</td>\n",
       "    </tr>\n",
       "    <tr>\n",
       "      <th>max</th>\n",
       "      <td>69999.00</td>\n",
       "      <td>248.00</td>\n",
       "    </tr>\n",
       "  </tbody>\n",
       "</table>\n",
       "</div>"
      ],
      "text/plain": [
       "       sentence_id   token_id\n",
       "count   1088564.00 1088564.00\n",
       "mean      35006.87       8.34\n",
       "std       20214.62       6.54\n",
       "min           0.00       0.00\n",
       "25%       17488.00       3.00\n",
       "50%       35028.00       7.00\n",
       "75%       52522.00      12.00\n",
       "max       69999.00     248.00"
      ]
     },
     "execution_count": 3,
     "metadata": {},
     "output_type": "execute_result"
    }
   ],
   "source": [
    "print ('test_data size',test_data.shape)\n",
    "test_data.describe()"
   ]
  },
  {
   "cell_type": "code",
   "execution_count": 4,
   "metadata": {},
   "outputs": [
    {
     "data": {
      "text/html": [
       "<div>\n",
       "<style>\n",
       "    .dataframe thead tr:only-child th {\n",
       "        text-align: right;\n",
       "    }\n",
       "\n",
       "    .dataframe thead th {\n",
       "        text-align: left;\n",
       "    }\n",
       "\n",
       "    .dataframe tbody tr th {\n",
       "        vertical-align: top;\n",
       "    }\n",
       "</style>\n",
       "<table border=\"1\" class=\"dataframe\">\n",
       "  <thead>\n",
       "    <tr style=\"text-align: right;\">\n",
       "      <th></th>\n",
       "      <th>sentence_id</th>\n",
       "      <th>token_id</th>\n",
       "      <th>class</th>\n",
       "      <th>before</th>\n",
       "      <th>after</th>\n",
       "    </tr>\n",
       "  </thead>\n",
       "  <tbody>\n",
       "    <tr>\n",
       "      <th>0</th>\n",
       "      <td>0</td>\n",
       "      <td>0</td>\n",
       "      <td>PLAIN</td>\n",
       "      <td>Brillantaisia</td>\n",
       "      <td>Brillantaisia</td>\n",
       "    </tr>\n",
       "    <tr>\n",
       "      <th>1</th>\n",
       "      <td>0</td>\n",
       "      <td>1</td>\n",
       "      <td>PLAIN</td>\n",
       "      <td>is</td>\n",
       "      <td>is</td>\n",
       "    </tr>\n",
       "    <tr>\n",
       "      <th>2</th>\n",
       "      <td>0</td>\n",
       "      <td>2</td>\n",
       "      <td>PLAIN</td>\n",
       "      <td>a</td>\n",
       "      <td>a</td>\n",
       "    </tr>\n",
       "    <tr>\n",
       "      <th>3</th>\n",
       "      <td>0</td>\n",
       "      <td>3</td>\n",
       "      <td>PLAIN</td>\n",
       "      <td>genus</td>\n",
       "      <td>genus</td>\n",
       "    </tr>\n",
       "    <tr>\n",
       "      <th>4</th>\n",
       "      <td>0</td>\n",
       "      <td>4</td>\n",
       "      <td>PLAIN</td>\n",
       "      <td>of</td>\n",
       "      <td>of</td>\n",
       "    </tr>\n",
       "    <tr>\n",
       "      <th>5</th>\n",
       "      <td>0</td>\n",
       "      <td>5</td>\n",
       "      <td>PLAIN</td>\n",
       "      <td>plant</td>\n",
       "      <td>plant</td>\n",
       "    </tr>\n",
       "    <tr>\n",
       "      <th>6</th>\n",
       "      <td>0</td>\n",
       "      <td>6</td>\n",
       "      <td>PLAIN</td>\n",
       "      <td>in</td>\n",
       "      <td>in</td>\n",
       "    </tr>\n",
       "    <tr>\n",
       "      <th>7</th>\n",
       "      <td>0</td>\n",
       "      <td>7</td>\n",
       "      <td>PLAIN</td>\n",
       "      <td>family</td>\n",
       "      <td>family</td>\n",
       "    </tr>\n",
       "    <tr>\n",
       "      <th>8</th>\n",
       "      <td>0</td>\n",
       "      <td>8</td>\n",
       "      <td>PLAIN</td>\n",
       "      <td>Acanthaceae</td>\n",
       "      <td>Acanthaceae</td>\n",
       "    </tr>\n",
       "    <tr>\n",
       "      <th>9</th>\n",
       "      <td>0</td>\n",
       "      <td>9</td>\n",
       "      <td>PUNCT</td>\n",
       "      <td>.</td>\n",
       "      <td>.</td>\n",
       "    </tr>\n",
       "  </tbody>\n",
       "</table>\n",
       "</div>"
      ],
      "text/plain": [
       "   sentence_id  token_id  class         before          after\n",
       "0            0         0  PLAIN  Brillantaisia  Brillantaisia\n",
       "1            0         1  PLAIN             is             is\n",
       "2            0         2  PLAIN              a              a\n",
       "3            0         3  PLAIN          genus          genus\n",
       "4            0         4  PLAIN             of             of\n",
       "5            0         5  PLAIN          plant          plant\n",
       "6            0         6  PLAIN             in             in\n",
       "7            0         7  PLAIN         family         family\n",
       "8            0         8  PLAIN    Acanthaceae    Acanthaceae\n",
       "9            0         9  PUNCT              .              ."
      ]
     },
     "execution_count": 4,
     "metadata": {},
     "output_type": "execute_result"
    }
   ],
   "source": [
    "train_data.iloc[:10]"
   ]
  },
  {
   "cell_type": "code",
   "execution_count": 5,
   "metadata": {},
   "outputs": [
    {
     "data": {
      "text/html": [
       "<div>\n",
       "<style>\n",
       "    .dataframe thead tr:only-child th {\n",
       "        text-align: right;\n",
       "    }\n",
       "\n",
       "    .dataframe thead th {\n",
       "        text-align: left;\n",
       "    }\n",
       "\n",
       "    .dataframe tbody tr th {\n",
       "        vertical-align: top;\n",
       "    }\n",
       "</style>\n",
       "<table border=\"1\" class=\"dataframe\">\n",
       "  <thead>\n",
       "    <tr style=\"text-align: right;\">\n",
       "      <th></th>\n",
       "      <th>sentence_id</th>\n",
       "      <th>token_id</th>\n",
       "      <th>before</th>\n",
       "    </tr>\n",
       "  </thead>\n",
       "  <tbody>\n",
       "    <tr>\n",
       "      <th>0</th>\n",
       "      <td>0</td>\n",
       "      <td>0</td>\n",
       "      <td>Another</td>\n",
       "    </tr>\n",
       "    <tr>\n",
       "      <th>1</th>\n",
       "      <td>0</td>\n",
       "      <td>1</td>\n",
       "      <td>religious</td>\n",
       "    </tr>\n",
       "    <tr>\n",
       "      <th>2</th>\n",
       "      <td>0</td>\n",
       "      <td>2</td>\n",
       "      <td>family</td>\n",
       "    </tr>\n",
       "    <tr>\n",
       "      <th>3</th>\n",
       "      <td>0</td>\n",
       "      <td>3</td>\n",
       "      <td>is</td>\n",
       "    </tr>\n",
       "    <tr>\n",
       "      <th>4</th>\n",
       "      <td>0</td>\n",
       "      <td>4</td>\n",
       "      <td>of</td>\n",
       "    </tr>\n",
       "  </tbody>\n",
       "</table>\n",
       "</div>"
      ],
      "text/plain": [
       "   sentence_id  token_id     before\n",
       "0            0         0    Another\n",
       "1            0         1  religious\n",
       "2            0         2     family\n",
       "3            0         3         is\n",
       "4            0         4         of"
      ]
     },
     "execution_count": 5,
     "metadata": {},
     "output_type": "execute_result"
    }
   ],
   "source": [
    "test_data.iloc[:5]"
   ]
  },
  {
   "cell_type": "markdown",
   "metadata": {},
   "source": [
    "<h3> Check for missing values </h3>"
   ]
  },
  {
   "cell_type": "code",
   "execution_count": 6,
   "metadata": {},
   "outputs": [
    {
     "name": "stdout",
     "output_type": "stream",
     "text": [
      "sentence_id     0\n",
      "token_id        0\n",
      "class           0\n",
      "before         51\n",
      "after          46\n",
      "dtype: int64\n"
     ]
    }
   ],
   "source": [
    "if train_data.isnull().values.any():\n",
    "    print train_data.isnull().sum()\n"
   ]
  },
  {
   "cell_type": "markdown",
   "metadata": {},
   "source": [
    "<h5> Missing values exist </h5>\n",
    "<p>  However, as we can see below, only datapoints of the class PLAIN and LETTERS contain N/A values. For datapoints of the class PLAIN, N/A values are normalized to N/A. In the case of LETTERS, when encountering N/A, the normalization would be the spoken letters <i>n a </i>.Thus there are no missing values. </p>"
   ]
  },
  {
   "cell_type": "code",
   "execution_count": 7,
   "metadata": {},
   "outputs": [
    {
     "data": {
      "text/html": [
       "<div>\n",
       "<style>\n",
       "    .dataframe thead tr:only-child th {\n",
       "        text-align: right;\n",
       "    }\n",
       "\n",
       "    .dataframe thead th {\n",
       "        text-align: left;\n",
       "    }\n",
       "\n",
       "    .dataframe tbody tr th {\n",
       "        vertical-align: top;\n",
       "    }\n",
       "</style>\n",
       "<table border=\"1\" class=\"dataframe\">\n",
       "  <thead>\n",
       "    <tr style=\"text-align: right;\">\n",
       "      <th></th>\n",
       "      <th>sentence_id</th>\n",
       "      <th>token_id</th>\n",
       "      <th>class</th>\n",
       "      <th>before</th>\n",
       "      <th>after</th>\n",
       "    </tr>\n",
       "  </thead>\n",
       "  <tbody>\n",
       "    <tr>\n",
       "      <th>616107</th>\n",
       "      <td>49226</td>\n",
       "      <td>17</td>\n",
       "      <td>LETTERS</td>\n",
       "      <td>NaN</td>\n",
       "      <td>n a</td>\n",
       "    </tr>\n",
       "    <tr>\n",
       "      <th>684691</th>\n",
       "      <td>54634</td>\n",
       "      <td>1</td>\n",
       "      <td>PLAIN</td>\n",
       "      <td>NaN</td>\n",
       "      <td>NaN</td>\n",
       "    </tr>\n",
       "    <tr>\n",
       "      <th>965529</th>\n",
       "      <td>76612</td>\n",
       "      <td>7</td>\n",
       "      <td>PLAIN</td>\n",
       "      <td>NaN</td>\n",
       "      <td>NaN</td>\n",
       "    </tr>\n",
       "    <tr>\n",
       "      <th>1011291</th>\n",
       "      <td>80126</td>\n",
       "      <td>5</td>\n",
       "      <td>LETTERS</td>\n",
       "      <td>NaN</td>\n",
       "      <td>n a</td>\n",
       "    </tr>\n",
       "    <tr>\n",
       "      <th>1347924</th>\n",
       "      <td>106058</td>\n",
       "      <td>6</td>\n",
       "      <td>PLAIN</td>\n",
       "      <td>NaN</td>\n",
       "      <td>NaN</td>\n",
       "    </tr>\n",
       "    <tr>\n",
       "      <th>1909700</th>\n",
       "      <td>149031</td>\n",
       "      <td>16</td>\n",
       "      <td>PLAIN</td>\n",
       "      <td>NaN</td>\n",
       "      <td>NaN</td>\n",
       "    </tr>\n",
       "    <tr>\n",
       "      <th>1999090</th>\n",
       "      <td>155865</td>\n",
       "      <td>4</td>\n",
       "      <td>PLAIN</td>\n",
       "      <td>NaN</td>\n",
       "      <td>NaN</td>\n",
       "    </tr>\n",
       "    <tr>\n",
       "      <th>2465002</th>\n",
       "      <td>191397</td>\n",
       "      <td>1</td>\n",
       "      <td>PLAIN</td>\n",
       "      <td>NaN</td>\n",
       "      <td>NaN</td>\n",
       "    </tr>\n",
       "    <tr>\n",
       "      <th>2765431</th>\n",
       "      <td>214094</td>\n",
       "      <td>1</td>\n",
       "      <td>PLAIN</td>\n",
       "      <td>NaN</td>\n",
       "      <td>NaN</td>\n",
       "    </tr>\n",
       "    <tr>\n",
       "      <th>3049822</th>\n",
       "      <td>235589</td>\n",
       "      <td>6</td>\n",
       "      <td>PLAIN</td>\n",
       "      <td>NaN</td>\n",
       "      <td>NaN</td>\n",
       "    </tr>\n",
       "  </tbody>\n",
       "</table>\n",
       "</div>"
      ],
      "text/plain": [
       "         sentence_id  token_id    class before after\n",
       "616107         49226        17  LETTERS    NaN   n a\n",
       "684691         54634         1    PLAIN    NaN   NaN\n",
       "965529         76612         7    PLAIN    NaN   NaN\n",
       "1011291        80126         5  LETTERS    NaN   n a\n",
       "1347924       106058         6    PLAIN    NaN   NaN\n",
       "1909700       149031        16    PLAIN    NaN   NaN\n",
       "1999090       155865         4    PLAIN    NaN   NaN\n",
       "2465002       191397         1    PLAIN    NaN   NaN\n",
       "2765431       214094         1    PLAIN    NaN   NaN\n",
       "3049822       235589         6    PLAIN    NaN   NaN"
      ]
     },
     "execution_count": 7,
     "metadata": {},
     "output_type": "execute_result"
    }
   ],
   "source": [
    "null_data = train_data[train_data.isnull().any(axis=1)]\n",
    "null_data.iloc[:10]"
   ]
  },
  {
   "cell_type": "markdown",
   "metadata": {},
   "source": [
    "<h3> Proportion of normalized words </h3>"
   ]
  },
  {
   "cell_type": "code",
   "execution_count": 8,
   "metadata": {},
   "outputs": [
    {
     "name": "stdout",
     "output_type": "stream",
     "text": [
      "0.0665264833455\n"
     ]
    }
   ],
   "source": [
    "#The propotion of data that has been normalized?\n",
    "nontrivial_train_data = train_data[train_data.before != train_data.after]\n",
    "proportion_nontrivial = nontrivial_train_data.shape[0]/float(train_data.shape[0])\n",
    "print(proportion_nontrivial)"
   ]
  },
  {
   "cell_type": "code",
   "execution_count": 9,
   "metadata": {},
   "outputs": [
    {
     "name": "stdout",
     "output_type": "stream",
     "text": [
      "0.933473516654\n"
     ]
    }
   ],
   "source": [
    "#If we normalize each token to itself we should except the following accuracy\n",
    "#We should not do worse than this.\n",
    "print 1 - proportion_nontrivial"
   ]
  },
  {
   "cell_type": "code",
   "execution_count": 10,
   "metadata": {},
   "outputs": [
    {
     "name": "stdout",
     "output_type": "stream",
     "text": [
      "['ADDRESS',\n",
      " 'CARDINAL',\n",
      " 'DATE',\n",
      " 'DECIMAL',\n",
      " 'DIGIT',\n",
      " 'ELECTRONIC',\n",
      " 'FRACTION',\n",
      " 'LETTERS',\n",
      " 'MEASURE',\n",
      " 'MONEY',\n",
      " 'ORDINAL',\n",
      " 'PLAIN',\n",
      " 'PUNCT',\n",
      " 'TELEPHONE',\n",
      " 'TIME',\n",
      " 'VERBATIM']\n"
     ]
    }
   ],
   "source": [
    "CLASSES = sorted(list(train_data['class'].unique()))\n",
    "from pprint import pprint\n",
    "pprint(CLASSES)"
   ]
  },
  {
   "cell_type": "code",
   "execution_count": 11,
   "metadata": {},
   "outputs": [
    {
     "name": "stdout",
     "output_type": "stream",
     "text": [
      "Proportion of rows for which nontrivial normalization is required (by class):\n",
      "\n",
      "ADDRESS - 1.0\n",
      "CARDINAL - 1.0\n",
      "DATE - 1.0\n",
      "DECIMAL - 1.0\n",
      "DIGIT - 1.0\n",
      "ELECTRONIC - 0.961642774119\n",
      "FRACTION - 1.0\n",
      "LETTERS - 0.944854216434\n",
      "MEASURE - 0.998511804099\n",
      "MONEY - 0.999510443864\n",
      "ORDINAL - 1.0\n",
      "PLAIN - 0.00496594024254\n",
      "PUNCT - 0.0\n",
      "TELEPHONE - 1.0\n",
      "TIME - 1.0\n",
      "VERBATIM - 0.330785578942\n"
     ]
    }
   ],
   "source": [
    "grouped_by_class = train_data.groupby('class')\n",
    "\n",
    "def proportion_nontrivial(df):\n",
    "    \"\"\"\n",
    "    Args:\n",
    "    1. df - Dataframe with 'before' and 'after' columns\n",
    "    \n",
    "    Returns:\n",
    "    Proportion of rows in dataframe for which 'before' is not equal to 'after'\n",
    "    \"\"\"\n",
    "    nontrivial = df[df.before != df.after]\n",
    "    return nontrivial.shape[0]/float(df.shape[0])\n",
    "\n",
    "class_nontriviality = [(key, proportion_nontrivial(group)) for key, group in grouped_by_class]\n",
    "print('Proportion of rows for which nontrivial normalization is required (by class):\\n')\n",
    "for key, s in class_nontriviality:\n",
    "    print('{} - {}'.format(key, s))"
   ]
  },
  {
   "cell_type": "markdown",
   "metadata": {},
   "source": [
    "<style type=\"text/css\">\n",
    ".tg  {border-collapse:collapse;border-spacing:0;}\n",
    ".tg td{font-family:Arial, sans-serif;font-size:14px;padding:10px 5px;border-style:solid;border-width:1px;overflow:hidden;word-break:normal;}\n",
    ".tg th{font-family:Arial, sans-serif;font-size:14px;font-weight:normal;padding:10px 5px;border-style:solid;border-width:1px;overflow:hidden;word-break:normal;}\n",
    ".tg .tg-yw4l{vertical-align:top}\n",
    "</style>\n",
    "<table class=\"tg\">\n",
    "  <tr>\n",
    "    <th class=\"tg-yw4l\">Always Normalize </th>\n",
    "    <th class=\"tg-yw4l\">Mostly Normalize</th>\n",
    "    <th class=\"tg-yw4l\">Almost Never Normalize</th>\n",
    "    <th class=\"tg-yw4l\">Never Normalize</th>\n",
    "  </tr>\n",
    "  <tr>\n",
    "    <td class=\"tg-yw4l\">ADDRESS</td>\n",
    "    <td class=\"tg-yw4l\">ELECTRONIC</td>\n",
    "    <td class=\"tg-yw4l\">PLAIN</td>\n",
    "    <td class=\"tg-yw4l\">PUNCT</td>\n",
    "  </tr>\n",
    "  <tr>\n",
    "    <td class=\"tg-yw4l\">CARDINAL</td>\n",
    "    <td class=\"tg-yw4l\">LETTERS</td>\n",
    "    <td class=\"tg-yw4l\">VERBATIM</td>\n",
    "    <td class=\"tg-yw4l\"></td>\n",
    "  </tr>\n",
    "  <tr>\n",
    "    <td class=\"tg-yw4l\">DATE</td>\n",
    "    <td class=\"tg-yw4l\">MEASURE</td>\n",
    "    <td class=\"tg-yw4l\"></td>\n",
    "    <td class=\"tg-yw4l\"></td>\n",
    "  </tr>\n",
    "  <tr>\n",
    "    <td class=\"tg-yw4l\">DECIMAL</td>\n",
    "    <td class=\"tg-yw4l\">MONEY</td>\n",
    "    <td class=\"tg-yw4l\"></td>\n",
    "    <td class=\"tg-yw4l\"></td>\n",
    "  </tr>\n",
    "  <tr>\n",
    "    <td class=\"tg-yw4l\">DIGIT</td>\n",
    "    <td class=\"tg-yw4l\"></td>\n",
    "    <td class=\"tg-yw4l\"></td>\n",
    "    <td class=\"tg-yw4l\"></td>\n",
    "  </tr>\n",
    "  <tr>\n",
    "    <td class=\"tg-yw4l\">FRACTION</td>\n",
    "    <td class=\"tg-yw4l\"></td>\n",
    "    <td class=\"tg-yw4l\"></td>\n",
    "    <td class=\"tg-yw4l\"></td>\n",
    "  </tr>\n",
    "  <tr>\n",
    "    <td class=\"tg-yw4l\">ORDINAL</td>\n",
    "    <td class=\"tg-yw4l\"></td>\n",
    "    <td class=\"tg-yw4l\"></td>\n",
    "    <td class=\"tg-yw4l\"></td>\n",
    "  </tr>\n",
    "  <tr>\n",
    "    <td class=\"tg-yw4l\">TELEPHONE</td>\n",
    "    <td class=\"tg-yw4l\"></td>\n",
    "    <td class=\"tg-yw4l\"></td>\n",
    "    <td class=\"tg-yw4l\"></td>\n",
    "  </tr>\n",
    "  <tr>\n",
    "    <td class=\"tg-yw4l\">TIME</td>\n",
    "    <td class=\"tg-yw4l\"></td>\n",
    "    <td class=\"tg-yw4l\"></td>\n",
    "    <td class=\"tg-yw4l\"></td>\n",
    "  </tr>\n",
    "</table>"
   ]
  },
  {
   "cell_type": "code",
   "execution_count": 30,
   "metadata": {},
   "outputs": [
    {
     "data": {
      "text/html": [
       "<div>\n",
       "<style>\n",
       "    .dataframe thead tr:only-child th {\n",
       "        text-align: right;\n",
       "    }\n",
       "\n",
       "    .dataframe thead th {\n",
       "        text-align: left;\n",
       "    }\n",
       "\n",
       "    .dataframe tbody tr th {\n",
       "        vertical-align: top;\n",
       "    }\n",
       "</style>\n",
       "<table border=\"1\" class=\"dataframe\">\n",
       "  <thead>\n",
       "    <tr style=\"text-align: right;\">\n",
       "      <th></th>\n",
       "      <th>sentence_id</th>\n",
       "      <th>token_id</th>\n",
       "      <th>class</th>\n",
       "      <th>before</th>\n",
       "      <th>after</th>\n",
       "    </tr>\n",
       "  </thead>\n",
       "  <tbody>\n",
       "    <tr>\n",
       "      <th>279</th>\n",
       "      <td>24</td>\n",
       "      <td>3</td>\n",
       "      <td>VERBATIM</td>\n",
       "      <td>#</td>\n",
       "      <td>number</td>\n",
       "    </tr>\n",
       "    <tr>\n",
       "      <th>724</th>\n",
       "      <td>54</td>\n",
       "      <td>11</td>\n",
       "      <td>VERBATIM</td>\n",
       "      <td>&amp;</td>\n",
       "      <td>and</td>\n",
       "    </tr>\n",
       "    <tr>\n",
       "      <th>1839</th>\n",
       "      <td>141</td>\n",
       "      <td>12</td>\n",
       "      <td>VERBATIM</td>\n",
       "      <td>pp</td>\n",
       "      <td>p p</td>\n",
       "    </tr>\n",
       "    <tr>\n",
       "      <th>3463</th>\n",
       "      <td>279</td>\n",
       "      <td>3</td>\n",
       "      <td>VERBATIM</td>\n",
       "      <td>&amp;</td>\n",
       "      <td>and</td>\n",
       "    </tr>\n",
       "    <tr>\n",
       "      <th>4095</th>\n",
       "      <td>337</td>\n",
       "      <td>3</td>\n",
       "      <td>VERBATIM</td>\n",
       "      <td>&amp;</td>\n",
       "      <td>and</td>\n",
       "    </tr>\n",
       "  </tbody>\n",
       "</table>\n",
       "</div>"
      ],
      "text/plain": [
       "      sentence_id  token_id     class before   after\n",
       "279            24         3  VERBATIM      #  number\n",
       "724            54        11  VERBATIM      &     and\n",
       "1839          141        12  VERBATIM     pp     p p\n",
       "3463          279         3  VERBATIM      &     and\n",
       "4095          337         3  VERBATIM      &     and"
      ]
     },
     "execution_count": 30,
     "metadata": {},
     "output_type": "execute_result"
    }
   ],
   "source": [
    "#What is the verbatim class?\n",
    "verbatim_class = grouped_by_class.get_group('VERBATIM')\n",
    "verbatim_class[verbatim_class.before != verbatim_class.after].iloc[0:7]"
   ]
  },
  {
   "cell_type": "code",
   "execution_count": 32,
   "metadata": {},
   "outputs": [
    {
     "name": "stdout",
     "output_type": "stream",
     "text": [
      "((78108, 5), (52271, 5))\n"
     ]
    },
    {
     "data": {
      "text/html": [
       "<div>\n",
       "<style>\n",
       "    .dataframe thead tr:only-child th {\n",
       "        text-align: right;\n",
       "    }\n",
       "\n",
       "    .dataframe thead th {\n",
       "        text-align: left;\n",
       "    }\n",
       "\n",
       "    .dataframe tbody tr th {\n",
       "        vertical-align: top;\n",
       "    }\n",
       "</style>\n",
       "<table border=\"1\" class=\"dataframe\">\n",
       "  <thead>\n",
       "    <tr style=\"text-align: right;\">\n",
       "      <th></th>\n",
       "      <th>sentence_id</th>\n",
       "      <th>token_id</th>\n",
       "      <th>class</th>\n",
       "      <th>before</th>\n",
       "      <th>after</th>\n",
       "    </tr>\n",
       "  </thead>\n",
       "  <tbody>\n",
       "    <tr>\n",
       "      <th>162</th>\n",
       "      <td>14</td>\n",
       "      <td>5</td>\n",
       "      <td>VERBATIM</td>\n",
       "      <td>-</td>\n",
       "      <td>-</td>\n",
       "    </tr>\n",
       "    <tr>\n",
       "      <th>980</th>\n",
       "      <td>75</td>\n",
       "      <td>2</td>\n",
       "      <td>VERBATIM</td>\n",
       "      <td>サ</td>\n",
       "      <td>サ</td>\n",
       "    </tr>\n",
       "    <tr>\n",
       "      <th>981</th>\n",
       "      <td>75</td>\n",
       "      <td>3</td>\n",
       "      <td>VERBATIM</td>\n",
       "      <td>イ</td>\n",
       "      <td>イ</td>\n",
       "    </tr>\n",
       "    <tr>\n",
       "      <th>982</th>\n",
       "      <td>75</td>\n",
       "      <td>4</td>\n",
       "      <td>VERBATIM</td>\n",
       "      <td>バ</td>\n",
       "      <td>バ</td>\n",
       "    </tr>\n",
       "    <tr>\n",
       "      <th>983</th>\n",
       "      <td>75</td>\n",
       "      <td>5</td>\n",
       "      <td>VERBATIM</td>\n",
       "      <td>ー</td>\n",
       "      <td>ー</td>\n",
       "    </tr>\n",
       "    <tr>\n",
       "      <th>984</th>\n",
       "      <td>75</td>\n",
       "      <td>6</td>\n",
       "      <td>VERBATIM</td>\n",
       "      <td>ス</td>\n",
       "      <td>ス</td>\n",
       "    </tr>\n",
       "    <tr>\n",
       "      <th>985</th>\n",
       "      <td>75</td>\n",
       "      <td>7</td>\n",
       "      <td>VERBATIM</td>\n",
       "      <td>レ</td>\n",
       "      <td>レ</td>\n",
       "    </tr>\n",
       "  </tbody>\n",
       "</table>\n",
       "</div>"
      ],
      "text/plain": [
       "     sentence_id  token_id     class before after\n",
       "162           14         5  VERBATIM      -     -\n",
       "980           75         2  VERBATIM      サ     サ\n",
       "981           75         3  VERBATIM      イ     イ\n",
       "982           75         4  VERBATIM      バ     バ\n",
       "983           75         5  VERBATIM      ー     ー\n",
       "984           75         6  VERBATIM      ス     ス\n",
       "985           75         7  VERBATIM      レ     レ"
      ]
     },
     "execution_count": 32,
     "metadata": {},
     "output_type": "execute_result"
    }
   ],
   "source": [
    "trivial_verbatim = verbatim_class[verbatim_class.before == verbatim_class.after]\n",
    "print (verbatim_class.shape,trivial_verbatim.shape)\n",
    "trivial_verbatim.iloc[:7]"
   ]
  },
  {
   "cell_type": "code",
   "execution_count": 33,
   "metadata": {
    "collapsed": true
   },
   "outputs": [],
   "source": [
    "from collections import Counter\n",
    "\n",
    "def generate_recorder_fn(counter):\n",
    "    def recorder_fn(iterable):\n",
    "        for c in iterable:\n",
    "            counter[c] += 1\n",
    "    return recorder_fn\n",
    "\n",
    "char_counter = Counter() \n",
    "_ = train_data['before'].astype(str).apply(generate_recorder_fn(char_counter))"
   ]
  },
  {
   "cell_type": "code",
   "execution_count": 34,
   "metadata": {},
   "outputs": [
    {
     "name": "stdout",
     "output_type": "stream",
     "text": [
      "190\n"
     ]
    }
   ],
   "source": [
    "print (len(char_counter))"
   ]
  },
  {
   "cell_type": "code",
   "execution_count": 62,
   "metadata": {},
   "outputs": [
    {
     "data": {
      "text/plain": [
       "[('e', 4476701),\n",
       " ('a', 3249768),\n",
       " ('i', 2849653),\n",
       " ('t', 2833328),\n",
       " ('n', 2779176),\n",
       " ('o', 2705921),\n",
       " ('r', 2549428),\n",
       " ('s', 2356593),\n",
       " ('l', 1596640),\n",
       " ('h', 1540689),\n",
       " ('d', 1376199),\n",
       " ('c', 1141803),\n",
       " ('u', 1002108),\n",
       " ('m', 886912),\n",
       " ('.', 838392),\n",
       " ('f', 709653),\n",
       " ('p', 691110),\n",
       " ('g', 672271),\n",
       " ('y', 607170),\n",
       " (',', 521202)]"
      ]
     },
     "execution_count": 62,
     "metadata": {},
     "output_type": "execute_result"
    }
   ],
   "source": [
    "char_counter.most_common(20)"
   ]
  },
  {
   "cell_type": "code",
   "execution_count": 63,
   "metadata": {},
   "outputs": [
    {
     "data": {
      "image/png": "[encoded data removed]",
      "text/plain": [
       "<matplotlib.figure.Figure at 0x7f6c44629650>"
      ]
     },
     "metadata": {},
     "output_type": "display_data"
    }
   ],
   "source": [
    "import matplotlib.pyplot as plt\n",
    "import numpy as np\n",
    "\n",
    "labels, values = zip(*char_counter.most_common(50))\n",
    "indexes = np.arange(len(labels))\n",
    "width = 0.2\n",
    "\n",
    "plt.bar(indexes, values, width)\n",
    "plt.xticks(indexes + width * 0.5, labels)\n",
    "plt.xlabel('characters')\n",
    "plt.ylabel('counts')\n",
    "plt.show()"
   ]
  },
  {
   "cell_type": "markdown",
   "metadata": {
    "collapsed": true
   },
   "source": [
    "<h3> Length of sequences </h3>\n",
    "<p> For a LSTM, we will need to set the size of the encoding vector. Let's create a histogram of the sentence lengths </p>"
   ]
  },
  {
   "cell_type": "code",
   "execution_count": 71,
   "metadata": {
    "collapsed": true
   },
   "outputs": [],
   "source": [
    "def generate_recorder_sfn(counter):\n",
    "    def recorder_sfn(string):\n",
    "        counter[len(string)] += 1\n",
    "    return recorder_sfn\n",
    "\n",
    "str_len_counter = Counter()\n",
    "__ = train_data['before'].astype(str).apply(generate_recorder_sfn(str_len_counter))"
   ]
  },
  {
   "cell_type": "code",
   "execution_count": 115,
   "metadata": {},
   "outputs": [
    {
     "data": {
      "text/plain": [
       "[(1, 2125943),\n",
       " (3, 1406840),\n",
       " (2, 1258519),\n",
       " (4, 1116869),\n",
       " (5, 887873),\n",
       " (6, 792271),\n",
       " (7, 729774),\n",
       " (8, 570898),\n",
       " (9, 383193),\n",
       " (10, 267001),\n",
       " (11, 140901),\n",
       " (12, 95785),\n",
       " (13, 58884),\n",
       " (14, 29145),\n",
       " (16, 17829),\n",
       " (15, 17685),\n",
       " (17, 11873),\n",
       " (18, 3471),\n",
       " (19, 799),\n",
       " (20, 584),\n",
       " (21, 376),\n",
       " (22, 298),\n",
       " (23, 235),\n",
       " (24, 171),\n",
       " (25, 144),\n",
       " (26, 102),\n",
       " (27, 71),\n",
       " (28, 47),\n",
       " (29, 29),\n",
       " (31, 25)]"
      ]
     },
     "execution_count": 115,
     "metadata": {},
     "output_type": "execute_result"
    }
   ],
   "source": [
    "# print len(str_len_counter)\n",
    "str_len_counter.most_common(30)"
   ]
  },
  {
   "cell_type": "code",
   "execution_count": 108,
   "metadata": {},
   "outputs": [
    {
     "data": {
      "image/png": "[encoded data removed]",
      "text/plain": [
       "<matplotlib.figure.Figure at 0x7f6c282799d0>"
      ]
     },
     "metadata": {},
     "output_type": "display_data"
    }
   ],
   "source": [
    "labels, values = zip(*str_len_counter.most_common(30))\n",
    "labels = np.array(labels)\n",
    "width = 0.8\n",
    "\n",
    "plt.bar(labels, values,width)\n",
    "plt.xticks(labels + width * 0.2, labels)\n",
    "plt.xlabel('world length')\n",
    "plt.ylabel('frequency')\n",
    "plt.axis([0, 30, 0, 2200000])\n",
    "plt.show()"
   ]
  },
  {
   "cell_type": "code",
   "execution_count": 113,
   "metadata": {},
   "outputs": [
    {
     "data": {
      "image/png": "[encoded data removed]",
      "text/plain": [
       "<matplotlib.figure.Figure at 0x7f6bf18bc250>"
      ]
     },
     "metadata": {},
     "output_type": "display_data"
    }
   ],
   "source": [
    "plt.bar(labels,values,width)\n",
    "plt.xticks(labels + width * 0.2, labels)\n",
    "plt.xlabel('world length')\n",
    "plt.ylabel('frequency')\n",
    "plt.axis([10, 20, 0, 1250000])\n",
    "plt.show()"
   ]
  },
  {
   "cell_type": "code",
   "execution_count": null,
   "metadata": {
    "collapsed": true
   },
   "outputs": [],
   "source": []
  }
 ],
 "metadata": {
  "kernelspec": {
   "display_name": "Python 2",
   "language": "python",
   "name": "python2"
  },
  "language_info": {
   "codemirror_mode": {
    "name": "ipython",
    "version": 2
   },
   "file_extension": ".py",
   "mimetype": "text/x-python",
   "name": "python",
   "nbconvert_exporter": "python",
   "pygments_lexer": "ipython2",
   "version": "2.7.13"
  }
 },
 "nbformat": 4,
 "nbformat_minor": 2
}
